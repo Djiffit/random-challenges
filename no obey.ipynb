{
 "cells": [
  {
   "cell_type": "code",
   "execution_count": 9,
   "metadata": {},
   "outputs": [
    {
     "name": "stdout",
     "output_type": "stream",
     "text": [
      "Curtisisland\n"
     ]
    }
   ],
   "source": [
    "import base64\n",
    "word = open('word').read()\n",
    "words = []\n",
    "for i in range(len(word)):\n",
    "    try:\n",
    "        if len(set(word[i:i+16])) == 16:\n",
    "            data = base64.b64decode(word[i:i+16])\n",
    "            if len(data) == 12:\n",
    "                print(str(data, 'utf-8'))\n",
    "    except:\n",
    "        pass\n",
    "    "
   ]
  },
  {
   "cell_type": "code",
   "execution_count": 10,
   "metadata": {},
   "outputs": [
    {
     "name": "stdout",
     "output_type": "stream",
     "text": [
      "[(24, 5, 1249458)]\n"
     ]
    },
    {
     "data": {
      "text/plain": [
       "'KUNGRAD'"
      ]
     },
     "execution_count": 10,
     "metadata": {},
     "output_type": "execute_result"
    }
   ],
   "source": [
    "import json\n",
    "import numpy as np\n",
    "\n",
    "hourly_reads = []\n",
    "res = ''\n",
    "with open('dada.txt') as f:\n",
    "    data = json.loads(''.join([chr(int(x, base=2)) for x in f.read().split()]))\n",
    "    for day in data:\n",
    "        for hour in day['readings']:\n",
    "            hourly_reads += [sum(hour['contaminants'].values())]\n",
    "            pos = len(hourly_reads) - 1 \n",
    "            if pos // 24 == 24 and pos % 24 == 5:\n",
    "                res = hour['id']\n",
    "            \n",
    "mean = np.mean(hourly_reads)\n",
    "std = np.std(hourly_reads)\n",
    "\n",
    "print([(ind // 24, ind % 24, v) for ind, v in enumerate(hourly_reads) if abs(v - mean) > std])\n",
    "''.join([chr(int(res[i:i+2], 16)) for i in range(0,len(res), 2)])\n",
    "             "
   ]
  },
  {
   "cell_type": "code",
   "execution_count": 11,
   "metadata": {},
   "outputs": [
    {
     "name": "stdout",
     "output_type": "stream",
     "text": [
      "DINGDOGN /ê*\n",
      "2FEA2A 3136 5 F\n",
      "DINGDOGN ìÉ\n",
      "95ECC9 3862 4 E\n",
      "DINGDOGN ]Ô\n",
      "5DD48E 2474 17 R\n",
      "DINGDOGN nÐY\n",
      "6ED059 1867 8 I\n",
      "DINGDOGN àëY\n",
      "E0EB59 2537 12 M\n",
      "DINGDOGN >®\n",
      "3EAE9D 3099 4 E\n",
      "DINGDOGN \u001e",
      "3\n",
      "1E3399 1653 3 D\n"
     ]
    }
   ],
   "source": [
    "from copy import deepcopy\n",
    "def calc_water(vals):\n",
    "    base = vals.pop(0)\n",
    "    stack = []\n",
    "    water = 0\n",
    "\n",
    "    while len(vals) > 0:\n",
    "        curr = vals.pop(0)\n",
    "        if curr < base:\n",
    "            stack += [curr]\n",
    "        else:\n",
    "            while len(stack) > 0:\n",
    "                bottom = stack.pop(0)\n",
    "                water += base - bottom\n",
    "            base = curr\n",
    "    if len(stack) > 0:\n",
    "        water += calc_water([*reversed(stack)] + [base])\n",
    "    return water\n",
    "\n",
    "with open('dada2.txt') as f:\n",
    "    data = json.loads(f.read())\n",
    "    for region in data['regions']:\n",
    "        prev_water = ''\n",
    "        for ind, reading in enumerate(region['readings']):\n",
    "            vals = deepcopy(reading['reading'])\n",
    "            water = calc_water(vals)\n",
    "            if prev_water:\n",
    "                if abs(water - prev_water) > 1000:\n",
    "                    reg = region['regionID']\n",
    "                    print(f\"DINGDOGN {''.join([chr(int(reg[i:i+2], 16)) for i in range(0,len(reg), 2)])}\")\n",
    "                    print(reg, abs(water - prev_water), ind, reading['readingID'])\n",
    "            prev_water = water\n",
    "            \n",
    "assert(calc_water([7,7,6,5,4,4,9,8,8,7,7,7]) == 9)\n",
    "assert(calc_water([18,18,18,15,12,11,9,7]) == 0)\n",
    "assert(calc_water([1,1,1,0,12,11,9,7]) == 1)\n",
    "assert(calc_water([1,1,1,12,11,9,7]) == 0)\n",
    "assert(calc_water([1,1,1,12,11,9,7]) == 0)\n",
    "assert(calc_water([1,1,1,0,12,11,9,7,11]) == 7)\n",
    "assert(calc_water([1,1,1,0,12,11,11,8,11]) == 4)\n",
    "assert(calc_water([12,10,5,10]) == 5)\n",
    "assert(calc_water([12,10,5,1,5]) == 4)\n",
    "assert(calc_water([-10, 10, -10]) == 0)\n",
    "assert(calc_water([0,-10, 10, -10]) == 10)\n"
   ]
  },
  {
   "cell_type": "code",
   "execution_count": null,
   "metadata": {},
   "outputs": [],
   "source": []
  },
  {
   "cell_type": "code",
   "execution_count": null,
   "metadata": {},
   "outputs": [],
   "source": []
  },
  {
   "cell_type": "code",
   "execution_count": null,
   "metadata": {},
   "outputs": [],
   "source": []
  }
 ],
 "metadata": {
  "kernelspec": {
   "display_name": "Python 3",
   "language": "python",
   "name": "python3"
  },
  "language_info": {
   "codemirror_mode": {
    "name": "ipython",
    "version": 3
   },
   "file_extension": ".py",
   "mimetype": "text/x-python",
   "name": "python",
   "nbconvert_exporter": "python",
   "pygments_lexer": "ipython3",
   "version": "3.7.3"
  }
 },
 "nbformat": 4,
 "nbformat_minor": 2
}
